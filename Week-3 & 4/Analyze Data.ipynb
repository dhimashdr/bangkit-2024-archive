{
 "cells": [
  {
   "cell_type": "markdown",
   "id": "35135c1b",
   "metadata": {},
   "source": [
    "# Analyze Data"
   ]
  },
  {
   "cell_type": "markdown",
   "id": "710cd3ab",
   "metadata": {},
   "source": [
    "**Phases of analysis**\n",
    "1. Organize\n",
    "2. Format and adjust data\n",
    "3. Getting input\n",
    "4. Transform"
   ]
  },
  {
   "cell_type": "markdown",
   "id": "5fd2f591",
   "metadata": {},
   "source": [
    "Data Validation : make dropdown, checkbox, etc."
   ]
  },
  {
   "cell_type": "markdown",
   "id": "6fb82b5f",
   "metadata": {},
   "source": [
    "## SQL Syntax"
   ]
  },
  {
   "cell_type": "markdown",
   "id": "0a99ebc3",
   "metadata": {},
   "source": [
    "- AS name ~ untuk memberi alias\n",
    "\n",
    "- LENGTH(val) ~ menghitung panjang sebuah karakter atau string\n",
    "\n",
    "- WHERE condition ~ untuk memfilter berdasarkan kondisi\n",
    "\n",
    "- SUBSTR(col, start, length) ~ ekstrak substring\n",
    "\n",
    "- ORDER_BY column DESC;ASC ~ mengurutkan berdasarkan suatu kolom\n",
    "\n",
    "- CAST(col AS typeconv) ~ mengubah tipe data\n",
    "\n",
    "- CONCAT(col1, col2) ~ menggabung kolom ; bisa juga 'val1' || 'val2'\n",
    "\n",
    "- CONCAT_WS(separator, val1, val2, val3, ...) ~ menggabung semua value dengan separator\n",
    "\n",
    "- COALESCE(col1, col2) ~ melewati null value\n",
    "\n",
    "- SELECT col; CASE;WHEN condition;ELSE condition;END AS newcol ~ conditional statement query"
   ]
  },
  {
   "cell_type": "markdown",
   "id": "71b85811",
   "metadata": {},
   "source": [
    "**Data aggregation** ~ gathering data from multiple sources in order to combine in one combination\n",
    "\n",
    "- VLOOKUP ~ find certain value in a columns\n",
    "- VLOOKUP(col, name_col!range, col_num, bool); bool = FALSE will return exact value\n",
    "- VLOOKUP(search_key, range, index, is_sorted)\n",
    "- VALUE(str) ~ will convert text to num\n",
    "\n",
    "**SQL JOINS**\n",
    "- INNER JOIN ~ intersection\n",
    "- LEFT JOIN ~ table1 + intersection(table1,table2)\n",
    "- RIGHT JOIN ~ table2 + intersection(table1,table2)\n",
    "- FULL OUTER JOIN ~ union(table1,table2)\n",
    "  \n",
    "  FROM table1\n",
    "  ... JOIN table2 ON table1.foreignkey = table2.foreignkey;\n",
    "\n",
    "**Subquery**\n",
    "\n",
    "- SELECT (SELECT col FROM table) AS colname"
   ]
  },
  {
   "cell_type": "markdown",
   "id": "05f62fab",
   "metadata": {},
   "source": [
    "**...IF**\n",
    "\n",
    "- COUNTIF(range,\"condition\")\n",
    "  \n",
    "  e.g. COUNTIF(D2:D8, \">50\")\n",
    "- SUMIF(range,\"condition\",rangesum)\n",
    "  \n",
    "  e.g. SUMIF(D2:D8, \">50\", A2:A8) ~ will sum A2:A8 depends on D2:D8 conditions\n",
    "- SUMIFS(range1, \"condition1\", rangesum1, range2, \"condition2\", rangesum2, ...) \n",
    "\n",
    "  e.g. SUMIFS(D2:D8, A2:A8, \"ProductA\", B2:B8, \"East\", C2:C8, \"Q1\")\n",
    "- COUNTIFS(range1,\"condition1\", range2,\"condition2\", ...)\n",
    "  \n",
    "  e.g. COUNTIFS(A2:A8, \"ProductA\", B2:B8, \"East\", C2:C8, \"Q2\")\n",
    "    \n",
    "- SUMPRODUCT(arr1, arr2, ...) ~ simply multiplication each columns\n",
    "\n",
    "**Pivot..pivot..pivot**\n",
    "\n",
    "Pivot ~ let me view data in multiple ways to gain insights and trends\n",
    "\n",
    "- SELECT col1, col2, col3, (col1 + col2)*col3 AS newcol\n",
    "- SUM(col) ~ return sum of a column\n",
    "- AVG(col) ~ return average of a column\n",
    "- SELECT EXTRACT(YEAR FROM date) as year ~ to extract year from date column\n",
    "\n",
    "**Temporary Table**\n",
    "\n",
    "- WITH namecolwewant AS (SELECT FROM WHERE) ~ aliasing\n",
    "\n",
    "- SELECT col INTO newtab FROM oldtab WHERE condition ~ create copy column to new table\n",
    "\n",
    "- CREATE TABLE table_name(\n",
    "  col1 dtype,\n",
    "  col2 dtype\n",
    ") ~ create a table (also can generate a temporary table"
   ]
  }
 ],
 "metadata": {
  "kernelspec": {
   "display_name": "Python 3 (ipykernel)",
   "language": "python",
   "name": "python3"
  },
  "language_info": {
   "codemirror_mode": {
    "name": "ipython",
    "version": 3
   },
   "file_extension": ".py",
   "mimetype": "text/x-python",
   "name": "python",
   "nbconvert_exporter": "python",
   "pygments_lexer": "ipython3",
   "version": "3.9.7"
  }
 },
 "nbformat": 4,
 "nbformat_minor": 5
}
